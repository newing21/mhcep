{
 "cells": [
  {
   "cell_type": "markdown",
   "metadata": {},
   "source": [
    "### Import packages"
   ]
  },
  {
   "cell_type": "code",
   "execution_count": 1,
   "metadata": {},
   "outputs": [
    {
     "name": "stderr",
     "output_type": "stream",
     "text": [
      "C:\\Users\\ewing\\anaconda33\\lib\\site-packages\\scipy\\sparse\\sparsetools.py:21: DeprecationWarning: `scipy.sparse.sparsetools` is deprecated!\n",
      "scipy.sparse.sparsetools is a private module for scipy.sparse, and should not be used.\n",
      "  _deprecated()\n"
     ]
    },
    {
     "name": "stdout",
     "output_type": "stream",
     "text": [
      "env: PYTHONHASHSEED=0\n"
     ]
    }
   ],
   "source": [
    "import pandas as pd \n",
    "import re \n",
    "import string \n",
    "import nltk\n",
    "\n",
    "# Uncomment the next two lines if you miss these packages\n",
    "#nltk.download('stopwords')\n",
    "#nltk.download('punkt')\n",
    "\n",
    "from nltk.tokenize import word_tokenize\n",
    "from nltk.corpus import stopwords\n",
    "from nltk.stem import PorterStemmer\n",
    "from sklearn.feature_extraction.text import CountVectorizer, TfidfVectorizer\n",
    "import nltk.corpus  \n",
    "from nltk import bigrams\n",
    "from nltk.text import Text \n",
    "import itertools\n",
    "import collections\n",
    "import networkx as nx\n",
    "from sklearn.metrics.pairwise import cosine_similarity\n",
    "from sklearn.cluster import KMeans\n",
    "from sklearn.decomposition import LatentDirichletAllocation\n",
    "from scipy.cluster.hierarchy import ward, dendrogram, single,complete,average,weighted,centroid,median\n",
    "from scipy.spatial.distance import pdist\n",
    "import spacy\n",
    "import math\n",
    "import numpy as np\n",
    "import pyLDAvis.gensim\n",
    "import pickle \n",
    "import pyLDAvis\n",
    "import gensim\n",
    "from gensim.utils import simple_preprocess\n",
    "import gensim.corpora as corpora\n",
    "from gensim.models import CoherenceModel\n",
    "import matplotlib as mpl\n",
    "import matplotlib.pyplot as plt\n",
    "%matplotlib inline\n",
    "# set PYTHONHASHSEED to have Gensim Reproducability\n",
    "%env PYTHONHASHSEED=0"
   ]
  },
  {
   "cell_type": "markdown",
   "metadata": {},
   "source": [
    "### Import Packages"
   ]
  },
  {
   "cell_type": "code",
   "execution_count": 2,
   "metadata": {},
   "outputs": [],
   "source": [
    "import pandas as pd \n",
    "import re \n",
    "import string \n",
    "from nltk.tokenize import word_tokenize\n",
    "from nltk.corpus import stopwords\n",
    "from nltk.stem import PorterStemmer\n",
    "from sklearn.feature_extraction.text import CountVectorizer, TfidfVectorizer\n",
    "import nltk.corpus  \n",
    "from nltk.text import Text  \n",
    "from sklearn.metrics.pairwise import cosine_similarity\n",
    "from sklearn.cluster import KMeans\n",
    "from sklearn.decomposition import LatentDirichletAllocation\n",
    "from scipy.cluster.hierarchy import ward, dendrogram, single,complete,average,weighted,centroid,median\n",
    "from scipy.spatial.distance import pdist\n",
    "import numpy as np\n",
    "import matplotlib.cm as matcm\n",
    "from networkx.algorithms import community\n",
    "import math\n",
    "import networkx as nx\n",
    "import matplotlib as mpl\n",
    "import matplotlib.pyplot as plt\n",
    "%matplotlib inline"
   ]
  },
  {
   "cell_type": "markdown",
   "metadata": {},
   "source": [
    "### Upload Data"
   ]
  },
  {
   "cell_type": "code",
   "execution_count": 3,
   "metadata": {},
   "outputs": [
    {
     "name": "stderr",
     "output_type": "stream",
     "text": [
      "C:\\Users\\ewing\\anaconda33\\lib\\site-packages\\xlrd\\xlsx.py:266: DeprecationWarning: This method will be removed in future versions.  Use 'tree.iter()' or 'list(tree.iter())' instead.\n",
      "  for elem in self.tree.iter() if Element_has_iter else self.tree.getiterator():\n",
      "C:\\Users\\ewing\\anaconda33\\lib\\site-packages\\xlrd\\xlsx.py:312: DeprecationWarning: This method will be removed in future versions.  Use 'tree.iter()' or 'list(tree.iter())' instead.\n",
      "  for elem in self.tree.iter() if Element_has_iter else self.tree.getiterator():\n",
      "C:\\Users\\ewing\\anaconda33\\lib\\site-packages\\xlrd\\xlsx.py:266: DeprecationWarning: This method will be removed in future versions.  Use 'tree.iter()' or 'list(tree.iter())' instead.\n",
      "  for elem in self.tree.iter() if Element_has_iter else self.tree.getiterator():\n"
     ]
    }
   ],
   "source": [
    "import pandas as pd\n",
    "import nltk\n",
    "import pandas as pd \n",
    "fileName = 'All Testimony.xlsx'\n",
    "df = pd.read_excel(fileName)\n"
   ]
  },
  {
   "cell_type": "code",
   "execution_count": 4,
   "metadata": {
    "scrolled": true
   },
   "outputs": [
    {
     "data": {
      "text/html": [
       "<div>\n",
       "<style scoped>\n",
       "    .dataframe tbody tr th:only-of-type {\n",
       "        vertical-align: middle;\n",
       "    }\n",
       "\n",
       "    .dataframe tbody tr th {\n",
       "        vertical-align: top;\n",
       "    }\n",
       "\n",
       "    .dataframe thead th {\n",
       "        text-align: right;\n",
       "    }\n",
       "</style>\n",
       "<table border=\"1\" class=\"dataframe\">\n",
       "  <thead>\n",
       "    <tr style=\"text-align: right;\">\n",
       "      <th></th>\n",
       "      <th>Name</th>\n",
       "      <th>Testimony_Length</th>\n",
       "      <th>Testimony_Text</th>\n",
       "      <th>Unnamed: 3</th>\n",
       "    </tr>\n",
       "  </thead>\n",
       "  <tbody>\n",
       "    <tr>\n",
       "      <th>0</th>\n",
       "      <td>Ellen Laurence</td>\n",
       "      <td>04:57:00</td>\n",
       "      <td>Commissioner Conway, members, I thank you for ...</td>\n",
       "      <td>NaN</td>\n",
       "    </tr>\n",
       "    <tr>\n",
       "      <th>1</th>\n",
       "      <td>Jim Cosby</td>\n",
       "      <td>13:38:00</td>\n",
       "      <td>Hello, my name is Jim Cosby I am a social work...</td>\n",
       "      <td>NaN</td>\n",
       "    </tr>\n",
       "    <tr>\n",
       "      <th>2</th>\n",
       "      <td>Megan Marx Varela</td>\n",
       "      <td>03:52:00</td>\n",
       "      <td>Good afternoon my name is Megan Marx-Varela an...</td>\n",
       "      <td>NaN</td>\n",
       "    </tr>\n",
       "    <tr>\n",
       "      <th>3</th>\n",
       "      <td>Rebecca Reynolds</td>\n",
       "      <td>04:56:00</td>\n",
       "      <td>Thank you my name is Rebecca Reynolds I use sh...</td>\n",
       "      <td>NaN</td>\n",
       "    </tr>\n",
       "    <tr>\n",
       "      <th>4</th>\n",
       "      <td>Ami Gary</td>\n",
       "      <td>06:25:00</td>\n",
       "      <td>Hello my name is Ami Garry, thank you so much ...</td>\n",
       "      <td>NaN</td>\n",
       "    </tr>\n",
       "  </tbody>\n",
       "</table>\n",
       "</div>"
      ],
      "text/plain": [
       "                 Name Testimony_Length  \\\n",
       "0     Ellen Laurence          04:57:00   \n",
       "1          Jim Cosby          13:38:00   \n",
       "2  Megan Marx Varela          03:52:00   \n",
       "3   Rebecca Reynolds          04:56:00   \n",
       "4           Ami Gary          06:25:00   \n",
       "\n",
       "                                      Testimony_Text Unnamed: 3  \n",
       "0  Commissioner Conway, members, I thank you for ...        NaN  \n",
       "1  Hello, my name is Jim Cosby I am a social work...        NaN  \n",
       "2  Good afternoon my name is Megan Marx-Varela an...        NaN  \n",
       "3  Thank you my name is Rebecca Reynolds I use sh...        NaN  \n",
       "4  Hello my name is Ami Garry, thank you so much ...        NaN  "
      ]
     },
     "execution_count": 4,
     "metadata": {},
     "output_type": "execute_result"
    }
   ],
   "source": [
    "df.head()"
   ]
  },
  {
   "cell_type": "code",
   "execution_count": 5,
   "metadata": {},
   "outputs": [],
   "source": [
    "df['Testimony_Text'] = df['Testimony_Text'].astype(str)\n"
   ]
  },
  {
   "cell_type": "markdown",
   "metadata": {},
   "source": [
    "### Clean Text"
   ]
  },
  {
   "cell_type": "code",
   "execution_count": 6,
   "metadata": {},
   "outputs": [],
   "source": [
    "def ReviewsPreprocessing(text): \n",
    "    # get lowercase\n",
    "    text = text.lower()\n",
    "    # remove numbers    # remove numbers\n",
    "\n",
    "    text = re.sub(r'\\d+', '', text)\n",
    "    # remove urls\n",
    "    text = re.sub(r'^https?:\\/\\/.*[\\r\\n]*', '', text)\n",
    "    # remove punctuation\n",
    "    text = text.translate(text.maketrans('', '', string.punctuation))\n",
    "    # strip whitespace\n",
    "    text = text.strip()\n",
    "    # remove stop words\n",
    "    stop_words = stopwords.words('english')\n",
    "    newStopWords = ['mental','health', 'im', 'gon', 'na', 'old', 'son', 'dont', 'know', 'years', 'ago', 'weve', 'got', 'high', 'school',\n",
    "                   'little', 'bit', 'grand' 'junction', 'fort', 'logan', 'make', 'sure', 'mentally', 'ill', 'jefferson', 'county', 'companies',\n",
    "                   'state', 'colorado', 'people', 'deafblind', 'coloradans', 'wheat', 'new', 'html', 'lois', 'my', 'name','hello', 'im', 'thats', 'know', 'like', 'think', 'things', 'lot', 'really', 'got', 'want',\n",
    "                   'dont', 'said', 'think', 'come', 'able', 'make', 'right', 'going', 'theres', 'good', 'ive', 'thing', 'thank', 'theyre', 'say',\n",
    "                   'hard', 'work', 'way', 'today', 'son', 'didnt', 'weve', 'talk', 'person', 'use', 'great', 'getting', 'better', 'life', 'colorado',\n",
    "                   'needed', 'told', 'provide', 'different', 'day', 'working', 'hes', 'tell', 'long', 'county', 'trying', 'came', 'kind', 'issues', 'illness',\n",
    "                   'home', 'disorder', 'people', 'went', 'actually', 'individuals', 'little', 'public', 'kids', 'child', 'year',\n",
    "                   'week', 'somebody', 'look', 'point', 'place', 'months', 'worked', 'new', 'old', 'times', 'room', 'started', 'youre', 'ill', 'denver',\n",
    "                   'david', 'live', 'number', 'money', 'issue', 'wasnt', 'husband', 'let', 'drew', 'serve', 'stay', 'heard', 'doesnt', 'week', 'deal', 'cause',\n",
    "                   'called', 'hope', 'wanted', 'order', 'happen', 'jefferson', 'looking', 'probably', 'ago', 'share', 'asked', 'understand', 'took', 'brain',\n",
    "                   'tried', 'daughter', 'taking', 'took', 'believe', 'feel', 'best', 'ask', 'maybe', 'days', 'seen', 'continue', 'task', 'based', 'start',\n",
    "                   'bit', 'ok', 'important', 'meet', 'big', 'fort', 'logan', 'lives', 'saying', 'mother', 'finally', 'force', 'receive', 'talked', \n",
    "                   'happened', 'mean', 'try', 'city', 'states', 'whats', 'figure', 'guys', 'coming', 'lets', 'age', 'reason', 'areas', 'home', 'address', 'pueblo',\n",
    "                   'second', 'given', 'end', 'head', 'na', 'sister', 'later', 'means', 'oh', 'area', 'brother', 'folks', 'month', 'isnt', 'oh', 'sort',\n",
    "                   'grand', 'past', 'used', 'leave', 'th', 'gave', 'fact', 'coloradans', 'act', 'kid', 'include', 'pretty', 'wouldnt', 'open', 'phone', 'problems',\n",
    "                   'simply', 'afternoon', 'taken', 'provided', 'felt', 'sign', 'stories', 'ways', 'happens', 'junction', 'shes', 'using', 'follow', 'making', 'board',\n",
    "                   'everybody', 'individual', 'dealing', 'springs', 'emotional', 'wont', 'fit', 'forward', 'received', 'january', 'hour', 'step', 'cases', 'population',\n",
    "                   'takes', 'friend', 'experienced', 'looked', 'knew', 'real', 'office', 'face', 'counties', 'industry', 'makes', 'read', 'personal', 'recently', 'general',\n",
    "                   'idea', 'worse', 'self', 'seeking', 'gone', 'meetings', 'cover', 'morning', 'works', 'spent', 'spend', 'building', 'efforts', 'bennefit', 'specifically',\n",
    "                   'sorry', 'appreciate', 'listening', 'jeffco', 'small', 'absolutely', 'places', 'theyve','focus','gon', 'go', 'one', 'every', 'see',\n",
    "                   'two', 'cant', 'another', 'us', 'call', 'put', 'back', 'everything', 'four', 'less', 'even', 'may', 'around', 'three', 'six', 'sure', 'give', 'last', 'weeks',\n",
    "                   'together', 'still', 'keep', 'enough', 'often', 'done', 'find', 'made', 'much', 'many', 'well', 'within', 'almost', 'become', 'found',\n",
    "                   'never', 'take', 'level', 'thought', 'whole', 'something', 'without', 'first', 'someone', 'everyone', 'part', 'anything', 'side', 'away',\n",
    "                   'ridge', 'regional']\n",
    "    stop_words.extend(newStopWords)\n",
    "    stop_words = set(stop_words)\n",
    "    tokens = word_tokenize(text)\n",
    "    words = [w for w in tokens if not w in stop_words]\n",
    "    text = \" \".join(w for w in words)\n",
    "    text = text.replace('thisway', 'this way')\n",
    "    text = text.replace('figures', 'figure')\n",
    "    text = text.replace('shes', 'she is')\n",
    "\n",
    "    return text"
   ]
  },
  {
   "cell_type": "code",
   "execution_count": 7,
   "metadata": {
    "scrolled": false
   },
   "outputs": [
    {
     "data": {
      "text/plain": [
       "[('department human services', 6),\n",
       " ('services deaf hearing', 6),\n",
       " ('behavioral services deaf', 5),\n",
       " ('medication assisted treatment', 5),\n",
       " ('deaf hearing deaf', 4),\n",
       " ('social security disability', 4),\n",
       " ('hearing loss association', 4),\n",
       " ('early intervention prevention', 4),\n",
       " ('medicare tricare commercial', 4),\n",
       " ('access behavioral care', 3),\n",
       " ('attention deficit hyperactivity', 3),\n",
       " ('deaf hearing persons', 3),\n",
       " ('commission deaf hearing', 3),\n",
       " ('training technical assistance', 3),\n",
       " ('publicly funded behavioral', 3),\n",
       " ('deaf hearing community', 3),\n",
       " ('hearing community access', 3),\n",
       " ('chapter hearing loss', 3),\n",
       " ('substance abuse treatment', 3),\n",
       " ('adopted foster care', 3),\n",
       " ('perfectly pair source', 3),\n",
       " ('intervention prevention services', 3),\n",
       " ('patients behavioral patients', 3),\n",
       " ('tricare commercial insurance', 3),\n",
       " ('joint budget committee', 2),\n",
       " ('need crisis stabilization', 2),\n",
       " ('daily basis families', 2),\n",
       " ('services medical surgical', 2),\n",
       " ('experience primary care', 2),\n",
       " ('case management need', 2),\n",
       " ('affected social development', 2),\n",
       " ('development intellectual development', 2),\n",
       " ('primary care physicians', 2),\n",
       " ('friends family members', 2),\n",
       " ('need create funding', 2),\n",
       " ('need support need', 2),\n",
       " ('basic needs met', 2),\n",
       " ('treatment lack awareness', 2),\n",
       " ('silver key provider', 2),\n",
       " ('benefit alongside medicare', 2)]"
      ]
     },
     "execution_count": 7,
     "metadata": {},
     "output_type": "execute_result"
    }
   ],
   "source": [
    "posts = df.Testimony_Text.values\n",
    "# preprocess posts\n",
    "processed_posts = [ReviewsPreprocessing(text) for text in posts]\n",
    "# Find frequent words and Generate word and frequency list\n",
    "vectorizer = CountVectorizer(stop_words='english', lowercase = True, ngram_range=(3,3))\n",
    "# Now X is the document-term matrix. \n",
    "x = vectorizer.fit_transform(processed_posts)\n",
    "sum_words = x.sum(axis=0) \n",
    "words_freq = [(word, sum_words[0, idx]) for word, idx in vectorizer.vocabulary_.items()]\n",
    "words_freq =sorted(words_freq, key = lambda x: x[1], reverse=True)\n",
    "words_freq[:40]"
   ]
  },
  {
   "cell_type": "code",
   "execution_count": 8,
   "metadata": {},
   "outputs": [],
   "source": [
    "def ReviewsPreprocessing(text): \n",
    "    # get lowercase\n",
    "    text = text.lower()\n",
    "    # remove numbers    # remove numbers\n",
    "\n",
    "    text = re.sub(r'\\d+', '', text)\n",
    "    # remove urls\n",
    "    text = re.sub(r'^https?:\\/\\/.*[\\r\\n]*', '', text)\n",
    "    # remove punctuation\n",
    "    text = text.translate(text.maketrans('', '', string.punctuation))\n",
    "    # strip whitespace\n",
    "    text = text.strip()\n",
    "    # remove stop words\n",
    "    stop_words = stopwords.words('english')\n",
    "    newStopWords = ['mental','health', 'im', 'gon', 'na', 'old', 'son', 'dont', 'know', 'years', 'ago', 'weve', 'got', 'high', 'school',\n",
    "                   'little', 'bit', 'grand' 'junction', 'fort', 'logan', 'make', 'sure', 'mentally', 'ill', 'jefferson', 'county', 'companies',\n",
    "                   'state', 'colorado', 'people', 'deafblind', 'coloradans', 'wheat', 'new', 'html', 'lois', 'my', 'name','hello', 'im', 'thats', 'know', 'like', 'think', 'things', 'lot', 'really', 'got', 'want',\n",
    "                   'dont', 'said', 'think', 'come', 'able', 'make', 'right', 'going', 'theres', 'good', 'ive', 'thing', 'thank', 'theyre', 'say',\n",
    "                   'hard', 'work', 'way', 'today', 'son', 'didnt', 'weve', 'talk', 'person', 'use', 'great', 'getting', 'better', 'life', 'colorado',\n",
    "                   'needed', 'told', 'provide', 'different', 'day', 'working', 'hes', 'tell', 'long', 'county', 'trying', 'came', 'kind', 'issues', 'illness',\n",
    "                   'home', 'disorder', 'people', 'went', 'actually', 'individuals', 'little', 'public', 'kids', 'child', 'year',\n",
    "                   'week', 'somebody', 'look', 'point', 'place', 'months', 'worked', 'new', 'old', 'times', 'room', 'started', 'youre', 'ill', 'denver',\n",
    "                   'david', 'live', 'number', 'money', 'issue', 'wasnt', 'husband', 'let', 'drew', 'serve', 'stay', 'heard', 'doesnt', 'week', 'deal', 'cause',\n",
    "                   'called', 'hope', 'wanted', 'order', 'happen', 'jefferson', 'looking', 'probably', 'ago', 'share', 'asked', 'understand', 'took', 'brain',\n",
    "                   'tried', 'daughter', 'taking', 'took', 'believe', 'feel', 'best', 'ask', 'maybe', 'days', 'seen', 'continue', 'task', 'based', 'start',\n",
    "                   'bit', 'ok', 'important', 'meet', 'big', 'fort', 'logan', 'lives', 'saying', 'mother', 'finally', 'force', 'receive', 'talked', \n",
    "                   'happened', 'mean', 'try', 'city', 'states', 'whats', 'figure', 'guys', 'coming', 'lets', 'age', 'reason', 'areas', 'home', 'address', 'pueblo',\n",
    "                   'second', 'given', 'end', 'head', 'na', 'sister', 'later', 'means', 'oh', 'area', 'brother', 'folks', 'month', 'isnt', 'oh', 'sort',\n",
    "                   'grand', 'past', 'used', 'leave', 'th', 'gave', 'fact', 'coloradans', 'act', 'kid', 'include', 'pretty', 'wouldnt', 'open', 'phone', 'problems',\n",
    "                   'simply', 'afternoon', 'taken', 'provided', 'felt', 'sign', 'stories', 'ways', 'happens', 'junction', 'shes', 'using', 'follow', 'making', 'board',\n",
    "                   'everybody', 'individual', 'dealing', 'springs', 'emotional', 'wont', 'fit', 'forward', 'received', 'january', 'hour', 'step', 'cases', 'population',\n",
    "                   'takes', 'friend', 'experienced', 'looked', 'knew', 'real', 'office', 'face', 'counties', 'industry', 'makes', 'read', 'personal', 'recently', 'general',\n",
    "                   'idea', 'worse', 'self', 'seeking', 'gone', 'meetings', 'cover', 'morning', 'works', 'spent', 'spend', 'building', 'efforts', 'bennefit', 'specifically',\n",
    "                   'sorry', 'appreciate', 'listening', 'jeffco', 'small', 'absolutely', 'places', 'theyve','focus','gon', 'go', 'one', 'every', 'see',\n",
    "                   'two', 'cant', 'another', 'us', 'call', 'put', 'back', 'everything', 'four', 'less', 'even', 'may', 'around', 'three', 'six', 'sure', 'give', 'last', 'weeks',\n",
    "                   'together', 'still', 'keep', 'enough', 'often', 'done', 'find', 'made', 'much', 'many', 'well', 'within', 'almost', 'become', 'found',\n",
    "                   'never', 'take', 'level', 'thought', 'whole', 'something', 'without', 'first', 'someone', 'everyone', 'part', 'anything', 'side', 'away',\n",
    "                   'ridge', 'regional']\n",
    "    stop_words.extend(newStopWords)\n",
    "    stop_words = set(stop_words)\n",
    "    tokens = word_tokenize(text)\n",
    "    words = [w for w in tokens if not w in stop_words]\n",
    "    text = \" \".join(w for w in words)\n",
    "    text = text.replace('thisway', 'this way')\n",
    "    text = text.replace('figures', 'figure')\n",
    "    text = text.replace('shes', 'she is')\n",
    "\n",
    "    return text"
   ]
  },
  {
   "cell_type": "code",
   "execution_count": 9,
   "metadata": {},
   "outputs": [
    {
     "data": {
      "text/plain": [
       "[('deaf hearing', 38),\n",
       " ('hearing loss', 20),\n",
       " ('behavioral services', 18),\n",
       " ('primary care', 18),\n",
       " ('private insurance', 15),\n",
       " ('behavioral care', 14),\n",
       " ('access care', 14),\n",
       " ('insurance company', 14),\n",
       " ('residential treatment', 13),\n",
       " ('community center', 11),\n",
       " ('intellectual disability', 11),\n",
       " ('substance abuse', 11),\n",
       " ('criminal justice', 10),\n",
       " ('access services', 10),\n",
       " ('care providers', 9),\n",
       " ('deaf community', 9),\n",
       " ('case management', 9),\n",
       " ('human services', 9),\n",
       " ('dual diagnosis', 9),\n",
       " ('social worker', 8),\n",
       " ('need help', 8),\n",
       " ('early childhood', 8),\n",
       " ('suicide prevention', 8),\n",
       " ('treatment services', 7),\n",
       " ('developmental disabilities', 7),\n",
       " ('services deaf', 7),\n",
       " ('daylight partnership', 7),\n",
       " ('behavioral needs', 7),\n",
       " ('domestic violence', 7),\n",
       " ('treatment treatment', 7),\n",
       " ('centennial peaks', 7),\n",
       " ('law enforcement', 7),\n",
       " ('reactive attachment', 7),\n",
       " ('commercial insurance', 7),\n",
       " ('johnson house', 7),\n",
       " ('community centers', 6),\n",
       " ('term care', 6),\n",
       " ('safety net', 6),\n",
       " ('need support', 6),\n",
       " ('lessons learned', 6)]"
      ]
     },
     "execution_count": 9,
     "metadata": {},
     "output_type": "execute_result"
    }
   ],
   "source": [
    "posts = df.Testimony_Text.values\n",
    "# preprocess posts\n",
    "processed_posts = [ReviewsPreprocessing(text) for text in posts]\n",
    "# Find frequent words and Generate word and frequency list\n",
    "vectorizer = CountVectorizer(stop_words='english', lowercase = True, ngram_range=(2,2))\n",
    "# Now X is the document-term matrix. \n",
    "x = vectorizer.fit_transform(processed_posts)\n",
    "sum_words = x.sum(axis=0) \n",
    "words_freq = [(word, sum_words[0, idx]) for word, idx in vectorizer.vocabulary_.items()]\n",
    "words_freq =sorted(words_freq, key = lambda x: x[1], reverse=True)\n",
    "words_freq[:40]"
   ]
  }
 ],
 "metadata": {
  "kernelspec": {
   "display_name": "Python 3",
   "language": "python",
   "name": "python3"
  },
  "language_info": {
   "codemirror_mode": {
    "name": "ipython",
    "version": 3
   },
   "file_extension": ".py",
   "mimetype": "text/x-python",
   "name": "python",
   "nbconvert_exporter": "python",
   "pygments_lexer": "ipython3",
   "version": "3.7.6"
  }
 },
 "nbformat": 4,
 "nbformat_minor": 4
}
